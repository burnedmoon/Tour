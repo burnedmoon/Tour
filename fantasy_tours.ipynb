{
 "cells": [
  {
   "cell_type": "code",
   "execution_count": 55,
   "metadata": {
    "collapsed": false
   },
   "outputs": [],
   "source": [
    "#get area href\n",
    "import requests\n",
    "import re\n",
    "import time\n",
    "from bs4 import BeautifulSoup as bs\n",
    "\n",
    "res = requests.get('http://www.fantasy-tours.com/Trip/Japan/Hokkaido.html?catalogNo=FB5A896DCA2BC274&areaNo=E7B0CCD39E3339B5')\n",
    "res.encoding = 'utf-8'\n",
    "soup = bs(res.text)"
   ]
  },
  {
   "cell_type": "code",
   "execution_count": 59,
   "metadata": {
    "collapsed": false
   },
   "outputs": [],
   "source": [
    "projectList = []\n",
    "for ele in soup.select('#contentNav a'):\n",
    "    fullDic = {}\n",
    "    fullDic['agency'] = 'fantasy-tours'\n",
    "    if re.search('E7B0CCD39E3339B5',ele['href']) != None:#E7B0CCD39E3339B5 is area nunber of japen\n",
    "        fullDic['area'] = ele.text\n",
    "        #get Area href info.\n",
    "        resArea = requests.get('http://www.fantasy-tours.com'+ele['href'])\n",
    "        resArea.encoding = 'utf-8'\n",
    "        soupArea = bs(res.text)\n",
    "        # pass if project href is not exist(IndexError)\n",
    "        try:\n",
    "            for eleArea in soupArea.select('.Ttext'):\n",
    "                fullDic['title'] = eleArea.select('h3')[0].text\n",
    "                #  flight href:  http://www.fantasy-tours.com/Product/travelList?prodNo={}\n",
    "                fullDic['prodNo'] = re.search('prodNo=(.*)',eleArea.select('h3 a')[0]['href']).group(1)\n",
    "                fullDic['href'] = 'http://www.fantasy-tours.com'+eleArea.select('.Tdate a')[0]['href']\n",
    "                #get project href info.\n",
    "                resInner = requests.get(fullDic['href'])\n",
    "                resInner.encoding = 'utf-8'\n",
    "                soupInner = bs(resInner.text)\n",
    "                tourDic = {}\n",
    "                #Tour info.\n",
    "                i = 1\n",
    "                for eleTour in soupInner.select('.tourDtitle'):\n",
    "                    tourDic['day{}'.format(i)] = eleTour.text\n",
    "                    i = i + 1\n",
    "                tempTourDic = tourDic.copy()\n",
    "                fullDic['tour'] = tempTourDic\n",
    "                tempFullDic = fullDic.copy()\n",
    "                projectList.append(tempFullDic)\n",
    "        except IndexError:\n",
    "            pass"
   ]
  },
  {
   "cell_type": "code",
   "execution_count": 60,
   "metadata": {
    "collapsed": true
   },
   "outputs": [],
   "source": [
    "import json\n",
    "from json import load\n",
    "from pprint import pprint\n",
    "with open('fantasy_tours.json', 'w') as f:\n",
    "     json.dump(projectList, f)"
   ]
  }
 ],
 "metadata": {
  "kernelspec": {
   "display_name": "Python 2",
   "language": "python",
   "name": "python2"
  },
  "language_info": {
   "codemirror_mode": {
    "name": "ipython",
    "version": 2
   },
   "file_extension": ".py",
   "mimetype": "text/x-python",
   "name": "python",
   "nbconvert_exporter": "python",
   "pygments_lexer": "ipython2",
   "version": "2.7.11"
  }
 },
 "nbformat": 4,
 "nbformat_minor": 0
}
