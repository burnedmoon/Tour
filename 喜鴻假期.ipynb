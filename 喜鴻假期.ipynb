{
 "cells": [
  {
   "cell_type": "code",
   "execution_count": 112,
   "metadata": {
    "collapsed": false
   },
   "outputs": [],
   "source": [
    "import requests\n",
    "import re\n",
    "from bs4 import BeautifulSoup as bs\n",
    "headers = {\n",
    "    'Accept':'text/html,application/xhtml+xml,application/xml;q=0.9,image/webp,*/*;q=0.8',\n",
    "'Accept-Encoding':'gzip, deflate',\n",
    "'Accept-Language':'zh-TW,zh;q=0.8,en-US;q=0.6,en;q=0.4',\n",
    "'Cache-Control':'max-age=0',\n",
    "'Connection':'keep-alive',\n",
    "'Content-Length':'110885',\n",
    "'Content-Type':'application/x-www-form-urlencoded',\n",
    "'Cookie':'__BWfp=c1464077912412xbaa916ea4; _ga=GA1.3.561382627.1464077913; _cami_gid=FY8924322; ASPSESSIONIDCQCBQTSA=OPEOAAECGLBOIKDJGMADJPKL; _cami_check_cookie=valid',\n",
    "'Host':'www.besttour.com.tw',\n",
    "'Origin':'http://www.besttour.com.tw',\n",
    "'Referer':'http://www.besttour.com.tw/web/travel_tour_list_2015.asp?travel_list=%A5_%AE%FC%B9D(%A5%BE%B7E%A1B%A8%E7%C0]%A1B%A6%B0%A4t%A1B%B1a%BCs)&id_key=1257&city=%A5x%A5_',\n",
    "'Upgrade-Insecure-Requests':'1',\n",
    "'User-Agent':'Mozilla/5.0 (Windows NT 6.1; WOW64) AppleWebKit/537.36 (KHTML, like Gecko) Chrome/50.0.2661.102 Safari/537.36'\n",
    "}\n",
    "rs = requests.session()\n",
    "res = rs.post('http://www.besttour.com.tw/web/travel_tour_list_2015.asp?travel_list=%A5_%AE%FC%B9D(%A5%BE%B7E%A1B%A8%E7%C0]%A1B%A6%B0%A4t%A1B%B1a%BCs)&id_key=ALL')\n",
    "soup = bs(res.text)\n",
    "prodNoList = []\n",
    "for page in soup.select('.pageBG'):\n",
    "    if len(page.text)<=1:\n",
    "        totalPage = int(page.text)\n",
    "for page in range(1,totalPage):\n",
    "    url = 'http://www.besttour.com.tw/web/travel_tour_list_2015.asp?pageid={}'\n",
    "    res = rs.get(url.format(page))\n",
    "    res.encoding = 'big5'\n",
    "    soup = bs(res.text)\n",
    "    for ele in soup.select('.ListNo'):\n",
    "        prodNo = re.search('[a-zA-Z0-9]*',ele.text.lstrip()).group(0)\n",
    "        if len(prodNo) > 5:\n",
    "            if prodNo not in prodNoList:\n",
    "                prodNoList.append(prodNo)"
   ]
  },
  {
   "cell_type": "code",
   "execution_count": 128,
   "metadata": {
    "collapsed": false
   },
   "outputs": [
    {
     "name": "stdout",
     "output_type": "stream",
     "text": [
      "北海道芝櫻祭~道東鶴雅、阿寒湖遊船、上湧別鬱金香公園、摩周湖&屈斜路湖、貼心好禮、三大螃蟹、美人溫泉5日\n",
      "【JL PAK日本假期】花現北海道~知床秘境遊船.禮文+利尻夢幻雙島.芝櫻七日\n",
      "【北海道/東京】~登別時代村、函館百萬夜景纜車、JR新幹線~隼鳥號(函館-青森)、松島遊船(日本三景)、中尊寺(世界遺產)、奧入瀨溪秘境、百選溫泉陸奧賞景7日\n",
      "北海道~登別時代村、函館纜車、洞爺湖湖光山色、小樽KITTY杯、夜景超值５日\n",
      "北海道~登別時代村、函館纜車、洞爺湖湖光山色、小樽KITTY杯、夜景超值５日\n",
      "北海道櫻紀行~登別時代村、百萬夜景纜車、大沼遊船、三大螃蟹、花火賞櫻百選溫泉５日\n",
      "北海道~登別時代村、函館纜車、洞爺湖湖光山色、小樽KITTY杯、夜景超值５日\n",
      "【特賣會】春戀北海道(千/千)〜小樽浪漫滿喫、洞爺湖展望台、函館山百萬夜景、螃蟹美食、溫泉五日遊\n",
      "北海道~美瑛&富良野、小樽KITTY杯、函館纜車、洞爺湖湖光山色、薰衣草花香５日遊\n",
      "【JL PAK日本假期】北海道~洞爺湖遊船、函館夜景+東京迪士尼樂園七日\n",
      "【JL PAK日本假期】北海道全覽~鶴雅森物語.北極熊.屈斜砂湯+東京七日\n",
      "北海道(旭/千)~道東知床秘境、旭山動物園、釧路濕原國立公園、小樽天狗山纜車+KITTY杯、溫泉賞花５日\n",
      "北海道(千/旭)~尼克斯海洋公園、函館百萬夜景纜車、洞爺湖湖光山色、花火溫泉５日\n",
      "【JL PAK日本假期】花現北海道~知床秘境遊船.禮文+利尻夢幻雙島.芝櫻七日\n",
      "【北海道/東京】~登別時代村、函館百萬夜景纜車、JR新幹線~隼鳥號(函館-青森)、松島遊船(日本三景)、中尊寺(世界遺產)、奧入瀨溪秘境、百選溫泉陸奧賞景7日\n",
      "北海道(千/函)~美瑛&富良野、尼克斯海洋公園、函館纜車夜景、洞爺湖湖光山色、溫泉賞花５日\n",
      "北海道(千歲/函館)~富良野賞花觀覽車、熊山森林沙法里探險趣、登別時代村、函館百萬夜景纜車、溫泉花香5日\n",
      "【特賣會】春戀北海道(千/千)〜小樽浪漫滿喫、洞爺湖展望台、函館山百萬夜景、室蘭地球岬、白鳥大橋、溫泉五日遊\n",
      "【特賣會】北海道風情畫(千歲/函館)∼美瑛富良野、洞爺湖國立公園+熊牧場、旭山動物園、函館纜車、夜景溫泉5日\n",
      "【特賣會】北海道~美瑛富良野、小樽KITTY杯、函館纜車、洞爺湖湖光山色、薰衣草花香５日遊\n",
      "【線上旅展】北海道~美瑛&富良野、小樽KITTY杯、函館纜車、洞爺湖湖光山色、薰衣草花香５日遊\n",
      "【JL PAK日本假期】花現北海道~知床秘境遊船.禮文+利尻夢幻雙島.芝櫻七日\n",
      "北海道(函/千)~薰衣草夢田、尼克斯海洋公園、洞爺湖國立公園+熊牧場、3大螃蟹、花火夜景名湯５日遊\n",
      "北海道~美瑛&富良野、小樽KITTY杯、函館纜車、洞爺湖湖光山色、薰衣草花香５日遊\n",
      "北海道(千/旭)~富良野&美瑛、尼克斯海洋公園、賞花觀覽車、函館百萬夜景纜車、三大螃蟹、花火溫泉５日\n",
      "北海道~美瑛富良野、尼克斯海洋公園、小樽港町風情、賞花觀覽車、大沼遊船、夜景花火５日\n",
      "【線上旅展】北海道~美瑛&富良野、小樽KITTY杯、函館纜車、洞爺湖湖光山色、薰衣草花香５日遊\n",
      "北海道(函/函)~函館百萬夜景、洞爺湖光山色、漫步歐風小樽、超值４日\n",
      "【線上旅展】北海道~美瑛&富良野、小樽KITTY杯、函館纜車、洞爺湖湖光山色、薰衣草花香５日遊\n",
      "【線上旅展】北海道(旭/函)~花香富良野、函館夜景纜車、洞爺湖湖光山色、小樽KITTY杯、溫泉賞花５日\n",
      "【特賣會】北海道(函/千)~登別尼克斯、函館夜景纜車、小樽貴賓館(賞花~牡丹・芍薬)、溫泉賞景５日\n",
      "【線上旅展】北海道~美瑛&富良野、小樽KITTY杯、函館纜車、洞爺湖湖光山色、薰衣草花香５日遊\n",
      "【線上旅展】北海道~美瑛&富良野、小樽KITTY杯、函館纜車、洞爺湖湖光山色、薰衣草花香５日遊\n",
      "【線上旅展】北海道~美瑛&富良野、小樽KITTY杯、函館纜車、洞爺湖湖光山色、薰衣草花香５日遊\n",
      "【特賣會】北海道~美瑛富良野、小樽KITTY杯、函館纜車、洞爺湖湖光山色、薰衣草花香５日遊\n",
      "北海道~美瑛&富良野、小樽KITTY杯、函館纜車、洞爺湖湖光山色、薰衣草花香５日遊\n",
      "北海道~道東阿寒湖國立公園、知床國立公園、富良野賞花觀覽車、3大螃蟹、美瑛花拼布溫泉5日\n",
      "北海道(千歲/函館)∼洞爺湖國立公園+熊牧場、旭山動物園、由仁花園、函館纜車、夜景溫泉5日\n",
      "北海道(旭/千)~道東知床秘境、旭山動物園、釧路濕原國立公園、小樽天狗山纜車+KITTY杯、溫泉賞花５日\n",
      "北海道~美瑛富良野、尼克斯海洋公園、小樽港町風情、賞花觀覽車、大沼遊船、夜景花火５日\n",
      "北海道(千/旭)~富良野&美瑛、尼克斯海洋公園、賞花觀覽車、函館百萬夜景纜車、三大螃蟹、花火溫泉５日\n",
      "【特賣會】北海道~美瑛富良野、小樽KITTY杯、函館纜車、洞爺湖湖光山色、薰衣草花香５日遊\n",
      "北海道(函/千)~美瑛&富良野、登別時代村、函館夜景纜車、賞花觀覽車、夜景超值５日\n",
      "北海道(千/函)~美瑛&富良野、尼克斯海洋公園、函館纜車夜景、洞爺湖湖光山色、溫泉賞花５日\n",
      "北海道(千歲/函館)∼洞爺湖國立公園+熊牧場、旭山動物園、由仁花園、函館纜車、夜景溫泉5日\n",
      "北海道(函/千)~登別尼克斯、函館夜景纜車、小樽貴賓館(賞花~牡丹・芍薬)、溫泉賞景５日\n",
      "北海道(千/千)~花現北海道、道東芝櫻祭、啤酒博物館、三大螃蟹、鬱金香賞花名湯５日遊\n",
      "北海道~富良野賞花觀覽車+亞斗夢之丘、尼克斯海洋公園+熊牧場、小樽天狗山纜車、花香溫泉５日\n",
      "北海道(千/旭)~富良野&美瑛、尼克斯海洋公園、賞花觀覽車、函館百萬夜景纜車、三大螃蟹、花火溫泉５日\n",
      "北海道~美瑛&富良野、小樽KITTY杯、函館纜車、洞爺湖湖光山色、薰衣草花香５日遊\n",
      "【特賣會】北海道~美瑛富良野、小樽KITTY杯、函館纜車、洞爺湖湖光山色、薰衣草花香５日遊\n",
      "【特賣會】春戀北海道(千/千)〜小樽浪漫滿喫、洞爺湖展望台、函館山百萬夜景、室蘭地球岬、白鳥大橋、溫泉五日遊\n",
      "北海道~美瑛富良野、尼克斯海洋公園、小樽港町風情、賞花觀覽車、大沼遊船、夜景花火５日\n",
      "北海道~美瑛&富良野、阿寒湖國立公園、知床國立公園、賞花觀覽車、3大螃蟹、道東溫泉5日\n",
      "北海道(旭/函)~尼克斯海洋公園、函館百萬夜景纜車、小樽KITTY杯、花香富良野、溫泉賞花５日\n",
      "【新品上市】北海道~探索道北、日本最北－北緯45度稚內、利尻禮文佐呂別國立公園、美瑛&富良野、奇景之旅六日\n",
      "北海道~登別時代村+熊牧場、有珠山纜車+函館纜車、小樽貴賓館(賞花~牡丹・芍薬)、螃蟹花火百選溫泉５日\n",
      "【北海道/東京】~登別時代村、函館百萬夜景纜車、JR新幹線~隼鳥號(函館-青森)、松島遊船(日本三景)、中尊寺(世界遺產)、奧入瀨溪秘境、百選溫泉陸奧賞景7日\n",
      "北海道(千歲/函館)∼洞爺湖國立公園+熊牧場、旭山動物園、由仁花園、函館纜車、夜景溫泉5日\n",
      "北海道(函/千)~薰衣草夢田+賞花觀覽車、尼克斯海洋公園+熊牧場、3大螃蟹、花火夜景名湯５日遊\n"
     ]
    }
   ],
   "source": [
    "projectList = []\n",
    "for prodNo in prodNoList:\n",
    "    tourDic = {'agency':'喜鴻假期','prodNo':'','href':'','title':''}#picture of dic\n",
    "    tourDic['prodNo'] = prodNo #prodNo\n",
    "    tourDic['href'] = 'http://www.besttour.com.tw/web/detail_page.asp?travel_no={}'.format(prodNo) #href\n",
    "    res = requests.get(tourDic['href'])\n",
    "    res.encoding = 'big5'\n",
    "    soup = bs(res.text)\n",
    "    tourDic['title'] = soup.select('.TitleA')[0].text.strip() #title\n",
    "    fullTourDic = {} #temp tour dict\n",
    "    for ele in soup.select('#left04_daytour ul'):\n",
    "        if len(ele.select('.day'))>0:\n",
    "            fullTourDic['day'+re.search('[0-9]',ele.select('.day')[0].text).group(0)] = ele.select('.tour')[0].text\n",
    "    tourDic['tour'] = fullTourDic.copy()\n",
    "    tmptourDic = tourDic.copy()\n",
    "    projectList.append(tmptourDic)"
   ]
  },
  {
   "cell_type": "code",
   "execution_count": 130,
   "metadata": {
    "collapsed": false
   },
   "outputs": [],
   "source": [
    "import json\n",
    "# from pprint import pprint\n",
    "with open('besttour.json', 'w') as f:\n",
    "     json.dump(projectList, f)"
   ]
  },
  {
   "cell_type": "code",
   "execution_count": 132,
   "metadata": {
    "collapsed": false
   },
   "outputs": [
    {
     "name": "stdout",
     "output_type": "stream",
     "text": [
      "60\n"
     ]
    }
   ],
   "source": [
    "with open('besttour.json') as data_file:    \n",
    "    data = json.load(data_file)\n",
    "# print json.dumps(data, encoding='UTF-8', ensure_ascii=False)\n",
    "i=0\n",
    "for ele in data:\n",
    "    i=i+1 \n",
    "print i"
   ]
  },
  {
   "cell_type": "code",
   "execution_count": 105,
   "metadata": {
    "collapsed": false
   },
   "outputs": [
    {
     "name": "stdout",
     "output_type": "stream",
     "text": [
      "1\n"
     ]
    }
   ],
   "source": []
  },
  {
   "cell_type": "code",
   "execution_count": null,
   "metadata": {
    "collapsed": true
   },
   "outputs": [],
   "source": []
  }
 ],
 "metadata": {
  "kernelspec": {
   "display_name": "Python 2",
   "language": "python",
   "name": "python2"
  },
  "language_info": {
   "codemirror_mode": {
    "name": "ipython",
    "version": 2
   },
   "file_extension": ".py",
   "mimetype": "text/x-python",
   "name": "python",
   "nbconvert_exporter": "python",
   "pygments_lexer": "ipython2",
   "version": "2.7.11"
  }
 },
 "nbformat": 4,
 "nbformat_minor": 0
}
